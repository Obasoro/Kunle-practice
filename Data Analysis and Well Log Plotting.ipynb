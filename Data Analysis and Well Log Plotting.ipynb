{
 "cells": [
  {
   "cell_type": "markdown",
   "metadata": {},
   "source": [
    "# Importing of various libraries of Data analysis of Well Logs"
   ]
  },
  {
   "cell_type": "code",
   "execution_count": 1,
   "metadata": {},
   "outputs": [],
   "source": [
    "import pandas as pd\n",
    "import matplotlib.pyplot as plt\n",
    "import numpy as np\n",
    "from numpy import nan as NA\n",
    "import sklearn\n",
    "import seaborn as sns\n",
    "import xlrd\n",
    "import openpyxl\n",
    "\n",
    "%matplotlib inline"
   ]
  },
  {
   "cell_type": "code",
   "execution_count": 2,
   "metadata": {},
   "outputs": [],
   "source": [
    "datasete = pd.ExcelFile(\"C:\\\\Users\\\\Toyin Obasoro\\Desktop\\\\Kunle practise\\\\RES (Autosaved) (Autosaved) - Copy.xlsx\")"
   ]
  },
  {
   "cell_type": "code",
   "execution_count": 3,
   "metadata": {},
   "outputs": [
    {
     "data": {
      "text/plain": [
       "<pandas.io.excel._base.ExcelFile at 0x200e19c0a08>"
      ]
     },
     "execution_count": 3,
     "metadata": {},
     "output_type": "execute_result"
    }
   ],
   "source": [
    "datasete"
   ]
  },
  {
   "cell_type": "code",
   "execution_count": 4,
   "metadata": {},
   "outputs": [],
   "source": [
    "dataset = datasete.parse(\"GOM\")"
   ]
  },
  {
   "cell_type": "code",
   "execution_count": 5,
   "metadata": {},
   "outputs": [
    {
     "data": {
      "text/html": [
       "<div>\n",
       "<style scoped>\n",
       "    .dataframe tbody tr th:only-of-type {\n",
       "        vertical-align: middle;\n",
       "    }\n",
       "\n",
       "    .dataframe tbody tr th {\n",
       "        vertical-align: top;\n",
       "    }\n",
       "\n",
       "    .dataframe thead th {\n",
       "        text-align: right;\n",
       "    }\n",
       "</style>\n",
       "<table border=\"1\" class=\"dataframe\">\n",
       "  <thead>\n",
       "    <tr style=\"text-align: right;\">\n",
       "      <th></th>\n",
       "      <th>Density(g/cc)</th>\n",
       "      <th>Depth(ft)</th>\n",
       "      <th>g</th>\n",
       "      <th>Sv</th>\n",
       "      <th>HPore Pressure</th>\n",
       "      <th>Overburden Pressure</th>\n",
       "      <th>Porosity Calculated</th>\n",
       "      <th>Theoritical Porosity</th>\n",
       "      <th>Over Pressure</th>\n",
       "      <th>Calculated Pore Pressure</th>\n",
       "      <th>Pressure Gradient</th>\n",
       "    </tr>\n",
       "  </thead>\n",
       "  <tbody>\n",
       "    <tr>\n",
       "      <td>0</td>\n",
       "      <td>1.000</td>\n",
       "      <td>0</td>\n",
       "      <td>NaN</td>\n",
       "      <td>0.0</td>\n",
       "      <td>0.000000</td>\n",
       "      <td>0.000000</td>\n",
       "      <td>1.000000</td>\n",
       "      <td>0.400000</td>\n",
       "      <td>0.000000</td>\n",
       "      <td>0.000000</td>\n",
       "      <td>NaN</td>\n",
       "    </tr>\n",
       "    <tr>\n",
       "      <td>1</td>\n",
       "      <td>1.000</td>\n",
       "      <td>1000</td>\n",
       "      <td>10.0</td>\n",
       "      <td>10000.0</td>\n",
       "      <td>433.233525</td>\n",
       "      <td>433.233525</td>\n",
       "      <td>1.000000</td>\n",
       "      <td>0.400000</td>\n",
       "      <td>-0.000025</td>\n",
       "      <td>433.233500</td>\n",
       "      <td>0.433234</td>\n",
       "    </tr>\n",
       "    <tr>\n",
       "      <td>2</td>\n",
       "      <td>1.800</td>\n",
       "      <td>1001</td>\n",
       "      <td>10.0</td>\n",
       "      <td>18018.0</td>\n",
       "      <td>433.233525</td>\n",
       "      <td>434.013345</td>\n",
       "      <td>0.529412</td>\n",
       "      <td>0.399938</td>\n",
       "      <td>1402.289646</td>\n",
       "      <td>1835.523171</td>\n",
       "      <td>0.433580</td>\n",
       "    </tr>\n",
       "    <tr>\n",
       "      <td>3</td>\n",
       "      <td>1.800</td>\n",
       "      <td>3514</td>\n",
       "      <td>10.0</td>\n",
       "      <td>63252.0</td>\n",
       "      <td>1522.382607</td>\n",
       "      <td>2393.701872</td>\n",
       "      <td>0.529412</td>\n",
       "      <td>0.336030</td>\n",
       "      <td>2272.829091</td>\n",
       "      <td>3795.211698</td>\n",
       "      <td>0.681190</td>\n",
       "    </tr>\n",
       "    <tr>\n",
       "      <td>4</td>\n",
       "      <td>2.154</td>\n",
       "      <td>3515</td>\n",
       "      <td>10.0</td>\n",
       "      <td>75713.1</td>\n",
       "      <td>1522.815840</td>\n",
       "      <td>2394.635057</td>\n",
       "      <td>0.321176</td>\n",
       "      <td>0.335996</td>\n",
       "      <td>-225.549895</td>\n",
       "      <td>1297.265945</td>\n",
       "      <td>0.681262</td>\n",
       "    </tr>\n",
       "  </tbody>\n",
       "</table>\n",
       "</div>"
      ],
      "text/plain": [
       "   Density(g/cc)  Depth(ft)     g       Sv  HPore Pressure  \\\n",
       "0          1.000          0   NaN      0.0        0.000000   \n",
       "1          1.000       1000  10.0  10000.0      433.233525   \n",
       "2          1.800       1001  10.0  18018.0      433.233525   \n",
       "3          1.800       3514  10.0  63252.0     1522.382607   \n",
       "4          2.154       3515  10.0  75713.1     1522.815840   \n",
       "\n",
       "   Overburden Pressure  Porosity Calculated  Theoritical Porosity  \\\n",
       "0             0.000000             1.000000              0.400000   \n",
       "1           433.233525             1.000000              0.400000   \n",
       "2           434.013345             0.529412              0.399938   \n",
       "3          2393.701872             0.529412              0.336030   \n",
       "4          2394.635057             0.321176              0.335996   \n",
       "\n",
       "   Over Pressure  Calculated Pore Pressure  Pressure Gradient  \n",
       "0       0.000000                  0.000000                NaN  \n",
       "1      -0.000025                433.233500           0.433234  \n",
       "2    1402.289646               1835.523171           0.433580  \n",
       "3    2272.829091               3795.211698           0.681190  \n",
       "4    -225.549895               1297.265945           0.681262  "
      ]
     },
     "execution_count": 5,
     "metadata": {},
     "output_type": "execute_result"
    }
   ],
   "source": [
    "dataset.head()"
   ]
  },
  {
   "cell_type": "code",
   "execution_count": 6,
   "metadata": {},
   "outputs": [
    {
     "data": {
      "text/plain": [
       "Density(g/cc)               0\n",
       "Depth(ft)                   0\n",
       "g                           1\n",
       "Sv                          0\n",
       "HPore Pressure              0\n",
       "Overburden Pressure         0\n",
       "Porosity Calculated         0\n",
       "Theoritical Porosity        0\n",
       "Over Pressure               2\n",
       "Calculated Pore Pressure    2\n",
       "Pressure Gradient           1\n",
       "dtype: int64"
      ]
     },
     "execution_count": 6,
     "metadata": {},
     "output_type": "execute_result"
    }
   ],
   "source": [
    "dataset.isnull().sum()"
   ]
  },
  {
   "cell_type": "code",
   "execution_count": 7,
   "metadata": {},
   "outputs": [
    {
     "name": "stdout",
     "output_type": "stream",
     "text": [
      "Density(g/cc) False\n",
      "Depth(ft) False\n",
      "g False\n",
      "Sv False\n",
      "HPore Pressure False\n",
      "Overburden Pressure False\n",
      "Porosity Calculated False\n",
      "Theoritical Porosity False\n",
      "Over Pressure False\n",
      "Calculated Pore Pressure False\n",
      "Pressure Gradient False\n"
     ]
    }
   ],
   "source": [
    "dataset['g'].fillna(dataset['g'].mean(), inplace=True)\n",
    "dataset['Over Pressure'].fillna(dataset['Over Pressure'].mean(), inplace=True)\n",
    "dataset['Calculated Pore Pressure'].fillna(dataset['Calculated Pore Pressure'].mean(), inplace=True)\n",
    "dataset['Pressure Gradient'].fillna(dataset['Pressure Gradient'].mean(), inplace=True)\n",
    "\n",
    "for x in dataset.columns:\n",
    "    print(x, dataset[x].isnull().values.any())"
   ]
  },
  {
   "cell_type": "code",
   "execution_count": 8,
   "metadata": {},
   "outputs": [
    {
     "data": {
      "text/html": [
       "<div>\n",
       "<style scoped>\n",
       "    .dataframe tbody tr th:only-of-type {\n",
       "        vertical-align: middle;\n",
       "    }\n",
       "\n",
       "    .dataframe tbody tr th {\n",
       "        vertical-align: top;\n",
       "    }\n",
       "\n",
       "    .dataframe thead th {\n",
       "        text-align: right;\n",
       "    }\n",
       "</style>\n",
       "<table border=\"1\" class=\"dataframe\">\n",
       "  <thead>\n",
       "    <tr style=\"text-align: right;\">\n",
       "      <th></th>\n",
       "      <th>Density(g/cc)</th>\n",
       "      <th>Depth(ft)</th>\n",
       "      <th>g</th>\n",
       "      <th>Sv</th>\n",
       "      <th>HPore Pressure</th>\n",
       "      <th>Overburden Pressure</th>\n",
       "      <th>Porosity Calculated</th>\n",
       "      <th>Theoritical Porosity</th>\n",
       "      <th>Over Pressure</th>\n",
       "      <th>Calculated Pore Pressure</th>\n",
       "      <th>Pressure Gradient</th>\n",
       "    </tr>\n",
       "  </thead>\n",
       "  <tbody>\n",
       "    <tr>\n",
       "      <td>0</td>\n",
       "      <td>1.000</td>\n",
       "      <td>0</td>\n",
       "      <td>10.0</td>\n",
       "      <td>0.0</td>\n",
       "      <td>0.000000</td>\n",
       "      <td>0.000000</td>\n",
       "      <td>1.000000</td>\n",
       "      <td>0.400000</td>\n",
       "      <td>0.000000</td>\n",
       "      <td>0.000000</td>\n",
       "      <td>0.811549</td>\n",
       "    </tr>\n",
       "    <tr>\n",
       "      <td>1</td>\n",
       "      <td>1.000</td>\n",
       "      <td>1000</td>\n",
       "      <td>10.0</td>\n",
       "      <td>10000.0</td>\n",
       "      <td>433.233525</td>\n",
       "      <td>433.233525</td>\n",
       "      <td>1.000000</td>\n",
       "      <td>0.400000</td>\n",
       "      <td>-0.000025</td>\n",
       "      <td>433.233500</td>\n",
       "      <td>0.433234</td>\n",
       "    </tr>\n",
       "    <tr>\n",
       "      <td>2</td>\n",
       "      <td>1.800</td>\n",
       "      <td>1001</td>\n",
       "      <td>10.0</td>\n",
       "      <td>18018.0</td>\n",
       "      <td>433.233525</td>\n",
       "      <td>434.013345</td>\n",
       "      <td>0.529412</td>\n",
       "      <td>0.399938</td>\n",
       "      <td>1402.289646</td>\n",
       "      <td>1835.523171</td>\n",
       "      <td>0.433580</td>\n",
       "    </tr>\n",
       "    <tr>\n",
       "      <td>3</td>\n",
       "      <td>1.800</td>\n",
       "      <td>3514</td>\n",
       "      <td>10.0</td>\n",
       "      <td>63252.0</td>\n",
       "      <td>1522.382607</td>\n",
       "      <td>2393.701872</td>\n",
       "      <td>0.529412</td>\n",
       "      <td>0.336030</td>\n",
       "      <td>2272.829091</td>\n",
       "      <td>3795.211698</td>\n",
       "      <td>0.681190</td>\n",
       "    </tr>\n",
       "    <tr>\n",
       "      <td>4</td>\n",
       "      <td>2.154</td>\n",
       "      <td>3515</td>\n",
       "      <td>10.0</td>\n",
       "      <td>75713.1</td>\n",
       "      <td>1522.815840</td>\n",
       "      <td>2394.635057</td>\n",
       "      <td>0.321176</td>\n",
       "      <td>0.335996</td>\n",
       "      <td>-225.549895</td>\n",
       "      <td>1297.265945</td>\n",
       "      <td>0.681262</td>\n",
       "    </tr>\n",
       "  </tbody>\n",
       "</table>\n",
       "</div>"
      ],
      "text/plain": [
       "   Density(g/cc)  Depth(ft)     g       Sv  HPore Pressure  \\\n",
       "0          1.000          0  10.0      0.0        0.000000   \n",
       "1          1.000       1000  10.0  10000.0      433.233525   \n",
       "2          1.800       1001  10.0  18018.0      433.233525   \n",
       "3          1.800       3514  10.0  63252.0     1522.382607   \n",
       "4          2.154       3515  10.0  75713.1     1522.815840   \n",
       "\n",
       "   Overburden Pressure  Porosity Calculated  Theoritical Porosity  \\\n",
       "0             0.000000             1.000000              0.400000   \n",
       "1           433.233525             1.000000              0.400000   \n",
       "2           434.013345             0.529412              0.399938   \n",
       "3          2393.701872             0.529412              0.336030   \n",
       "4          2394.635057             0.321176              0.335996   \n",
       "\n",
       "   Over Pressure  Calculated Pore Pressure  Pressure Gradient  \n",
       "0       0.000000                  0.000000           0.811549  \n",
       "1      -0.000025                433.233500           0.433234  \n",
       "2    1402.289646               1835.523171           0.433580  \n",
       "3    2272.829091               3795.211698           0.681190  \n",
       "4    -225.549895               1297.265945           0.681262  "
      ]
     },
     "execution_count": 8,
     "metadata": {},
     "output_type": "execute_result"
    }
   ],
   "source": [
    "dataset.head()"
   ]
  },
  {
   "cell_type": "code",
   "execution_count": 9,
   "metadata": {},
   "outputs": [],
   "source": [
    "dataset1 = datasete.parse(\"Barne shale\")"
   ]
  },
  {
   "cell_type": "code",
   "execution_count": 10,
   "metadata": {},
   "outputs": [
    {
     "data": {
      "text/html": [
       "<div>\n",
       "<style scoped>\n",
       "    .dataframe tbody tr th:only-of-type {\n",
       "        vertical-align: middle;\n",
       "    }\n",
       "\n",
       "    .dataframe tbody tr th {\n",
       "        vertical-align: top;\n",
       "    }\n",
       "\n",
       "    .dataframe thead th {\n",
       "        text-align: right;\n",
       "    }\n",
       "</style>\n",
       "<table border=\"1\" class=\"dataframe\">\n",
       "  <thead>\n",
       "    <tr style=\"text-align: right;\">\n",
       "      <th></th>\n",
       "      <th>Density(g/cc)</th>\n",
       "      <th>Depth(ft)</th>\n",
       "      <th>g=10</th>\n",
       "      <th>OverBurden</th>\n",
       "      <th>Pore Pressure</th>\n",
       "      <th>Porosity</th>\n",
       "      <th>Pore Pressure Gradient</th>\n",
       "    </tr>\n",
       "  </thead>\n",
       "  <tbody>\n",
       "    <tr>\n",
       "      <td>0</td>\n",
       "      <td>1.9000</td>\n",
       "      <td>0.0</td>\n",
       "      <td>9.8</td>\n",
       "      <td>0.000000</td>\n",
       "      <td>0.000000</td>\n",
       "      <td>0.470588</td>\n",
       "      <td>0.000000</td>\n",
       "    </tr>\n",
       "    <tr>\n",
       "      <td>1</td>\n",
       "      <td>1.9000</td>\n",
       "      <td>94.0</td>\n",
       "      <td>9.8</td>\n",
       "      <td>77.355375</td>\n",
       "      <td>40.723951</td>\n",
       "      <td>0.470588</td>\n",
       "      <td>40.713355</td>\n",
       "    </tr>\n",
       "    <tr>\n",
       "      <td>2</td>\n",
       "      <td>1.8778</td>\n",
       "      <td>95.0</td>\n",
       "      <td>9.8</td>\n",
       "      <td>77.264853</td>\n",
       "      <td>41.157185</td>\n",
       "      <td>0.483647</td>\n",
       "      <td>41.146476</td>\n",
       "    </tr>\n",
       "    <tr>\n",
       "      <td>3</td>\n",
       "      <td>1.8778</td>\n",
       "      <td>95.5</td>\n",
       "      <td>9.8</td>\n",
       "      <td>77.671510</td>\n",
       "      <td>41.373802</td>\n",
       "      <td>0.483647</td>\n",
       "      <td>41.363036</td>\n",
       "    </tr>\n",
       "    <tr>\n",
       "      <td>4</td>\n",
       "      <td>1.8778</td>\n",
       "      <td>96.0</td>\n",
       "      <td>9.8</td>\n",
       "      <td>78.078167</td>\n",
       "      <td>41.590418</td>\n",
       "      <td>0.483647</td>\n",
       "      <td>41.579597</td>\n",
       "    </tr>\n",
       "  </tbody>\n",
       "</table>\n",
       "</div>"
      ],
      "text/plain": [
       "   Density(g/cc)  Depth(ft)  g=10  OverBurden  Pore Pressure  Porosity  \\\n",
       "0         1.9000        0.0   9.8    0.000000       0.000000  0.470588   \n",
       "1         1.9000       94.0   9.8   77.355375      40.723951  0.470588   \n",
       "2         1.8778       95.0   9.8   77.264853      41.157185  0.483647   \n",
       "3         1.8778       95.5   9.8   77.671510      41.373802  0.483647   \n",
       "4         1.8778       96.0   9.8   78.078167      41.590418  0.483647   \n",
       "\n",
       "   Pore Pressure Gradient  \n",
       "0                0.000000  \n",
       "1               40.713355  \n",
       "2               41.146476  \n",
       "3               41.363036  \n",
       "4               41.579597  "
      ]
     },
     "execution_count": 10,
     "metadata": {},
     "output_type": "execute_result"
    }
   ],
   "source": [
    "dataset1.head()"
   ]
  },
  {
   "cell_type": "markdown",
   "metadata": {},
   "source": [
    "# Data Cleaning and Wrangling"
   ]
  },
  {
   "cell_type": "code",
   "execution_count": 11,
   "metadata": {},
   "outputs": [
    {
     "data": {
      "text/html": [
       "<div>\n",
       "<style scoped>\n",
       "    .dataframe tbody tr th:only-of-type {\n",
       "        vertical-align: middle;\n",
       "    }\n",
       "\n",
       "    .dataframe tbody tr th {\n",
       "        vertical-align: top;\n",
       "    }\n",
       "\n",
       "    .dataframe thead th {\n",
       "        text-align: right;\n",
       "    }\n",
       "</style>\n",
       "<table border=\"1\" class=\"dataframe\">\n",
       "  <thead>\n",
       "    <tr style=\"text-align: right;\">\n",
       "      <th></th>\n",
       "      <th>count</th>\n",
       "      <th>mean</th>\n",
       "      <th>std</th>\n",
       "      <th>min</th>\n",
       "      <th>25%</th>\n",
       "      <th>50%</th>\n",
       "      <th>75%</th>\n",
       "      <th>max</th>\n",
       "    </tr>\n",
       "  </thead>\n",
       "  <tbody>\n",
       "    <tr>\n",
       "      <td>Density(g/cc)</td>\n",
       "      <td>9590.0</td>\n",
       "      <td>2.277153</td>\n",
       "      <td>0.114170</td>\n",
       "      <td>1.000000</td>\n",
       "      <td>2.194000</td>\n",
       "      <td>2.266000</td>\n",
       "      <td>2.358000</td>\n",
       "      <td>3.188000</td>\n",
       "    </tr>\n",
       "    <tr>\n",
       "      <td>Depth(ft)</td>\n",
       "      <td>9590.0</td>\n",
       "      <td>8304.610010</td>\n",
       "      <td>2770.549008</td>\n",
       "      <td>0.000000</td>\n",
       "      <td>5908.250000</td>\n",
       "      <td>8305.500000</td>\n",
       "      <td>10702.750000</td>\n",
       "      <td>13100.000000</td>\n",
       "    </tr>\n",
       "    <tr>\n",
       "      <td>g</td>\n",
       "      <td>9590.0</td>\n",
       "      <td>10.000000</td>\n",
       "      <td>0.000000</td>\n",
       "      <td>10.000000</td>\n",
       "      <td>10.000000</td>\n",
       "      <td>10.000000</td>\n",
       "      <td>10.000000</td>\n",
       "      <td>10.000000</td>\n",
       "    </tr>\n",
       "    <tr>\n",
       "      <td>Sv</td>\n",
       "      <td>9590.0</td>\n",
       "      <td>191492.499647</td>\n",
       "      <td>70928.849788</td>\n",
       "      <td>0.000000</td>\n",
       "      <td>128125.415000</td>\n",
       "      <td>189873.210000</td>\n",
       "      <td>249901.105000</td>\n",
       "      <td>417086.040000</td>\n",
       "    </tr>\n",
       "    <tr>\n",
       "      <td>HPore Pressure</td>\n",
       "      <td>9590.0</td>\n",
       "      <td>3597.835423</td>\n",
       "      <td>1200.294832</td>\n",
       "      <td>0.000000</td>\n",
       "      <td>2559.651974</td>\n",
       "      <td>3598.221041</td>\n",
       "      <td>4636.790109</td>\n",
       "      <td>5675.359176</td>\n",
       "    </tr>\n",
       "    <tr>\n",
       "      <td>Overburden Pressure</td>\n",
       "      <td>9590.0</td>\n",
       "      <td>6864.400064</td>\n",
       "      <td>2584.967802</td>\n",
       "      <td>0.000000</td>\n",
       "      <td>4627.980088</td>\n",
       "      <td>6865.057860</td>\n",
       "      <td>9102.135632</td>\n",
       "      <td>11339.213403</td>\n",
       "    </tr>\n",
       "    <tr>\n",
       "      <td>Porosity Calculated</td>\n",
       "      <td>9590.0</td>\n",
       "      <td>0.248734</td>\n",
       "      <td>0.067159</td>\n",
       "      <td>-0.287059</td>\n",
       "      <td>0.201176</td>\n",
       "      <td>0.255294</td>\n",
       "      <td>0.297647</td>\n",
       "      <td>1.000000</td>\n",
       "    </tr>\n",
       "    <tr>\n",
       "      <td>Theoritical Porosity</td>\n",
       "      <td>9590.0</td>\n",
       "      <td>0.216202</td>\n",
       "      <td>0.059446</td>\n",
       "      <td>0.128856</td>\n",
       "      <td>0.163759</td>\n",
       "      <td>0.208116</td>\n",
       "      <td>0.264489</td>\n",
       "      <td>0.400000</td>\n",
       "    </tr>\n",
       "    <tr>\n",
       "      <td>Over Pressure</td>\n",
       "      <td>9590.0</td>\n",
       "      <td>684.989768</td>\n",
       "      <td>1049.603795</td>\n",
       "      <td>-16557.401279</td>\n",
       "      <td>2.913968</td>\n",
       "      <td>683.277958</td>\n",
       "      <td>1310.693719</td>\n",
       "      <td>4304.010584</td>\n",
       "    </tr>\n",
       "    <tr>\n",
       "      <td>Calculated Pore Pressure</td>\n",
       "      <td>9590.0</td>\n",
       "      <td>4282.393413</td>\n",
       "      <td>1783.049985</td>\n",
       "      <td>-10888.973839</td>\n",
       "      <td>3105.422929</td>\n",
       "      <td>4322.292833</td>\n",
       "      <td>5428.501318</td>\n",
       "      <td>9751.922160</td>\n",
       "    </tr>\n",
       "    <tr>\n",
       "      <td>Pressure Gradient</td>\n",
       "      <td>9590.0</td>\n",
       "      <td>0.811549</td>\n",
       "      <td>0.047843</td>\n",
       "      <td>0.433234</td>\n",
       "      <td>0.783333</td>\n",
       "      <td>0.826568</td>\n",
       "      <td>0.850448</td>\n",
       "      <td>0.865589</td>\n",
       "    </tr>\n",
       "  </tbody>\n",
       "</table>\n",
       "</div>"
      ],
      "text/plain": [
       "                           count           mean           std           min  \\\n",
       "Density(g/cc)             9590.0       2.277153      0.114170      1.000000   \n",
       "Depth(ft)                 9590.0    8304.610010   2770.549008      0.000000   \n",
       "g                         9590.0      10.000000      0.000000     10.000000   \n",
       "Sv                        9590.0  191492.499647  70928.849788      0.000000   \n",
       "HPore Pressure            9590.0    3597.835423   1200.294832      0.000000   \n",
       "Overburden Pressure       9590.0    6864.400064   2584.967802      0.000000   \n",
       "Porosity Calculated       9590.0       0.248734      0.067159     -0.287059   \n",
       "Theoritical Porosity      9590.0       0.216202      0.059446      0.128856   \n",
       "Over Pressure             9590.0     684.989768   1049.603795 -16557.401279   \n",
       "Calculated Pore Pressure  9590.0    4282.393413   1783.049985 -10888.973839   \n",
       "Pressure Gradient         9590.0       0.811549      0.047843      0.433234   \n",
       "\n",
       "                                    25%            50%            75%  \\\n",
       "Density(g/cc)                  2.194000       2.266000       2.358000   \n",
       "Depth(ft)                   5908.250000    8305.500000   10702.750000   \n",
       "g                             10.000000      10.000000      10.000000   \n",
       "Sv                        128125.415000  189873.210000  249901.105000   \n",
       "HPore Pressure              2559.651974    3598.221041    4636.790109   \n",
       "Overburden Pressure         4627.980088    6865.057860    9102.135632   \n",
       "Porosity Calculated            0.201176       0.255294       0.297647   \n",
       "Theoritical Porosity           0.163759       0.208116       0.264489   \n",
       "Over Pressure                  2.913968     683.277958    1310.693719   \n",
       "Calculated Pore Pressure    3105.422929    4322.292833    5428.501318   \n",
       "Pressure Gradient              0.783333       0.826568       0.850448   \n",
       "\n",
       "                                    max  \n",
       "Density(g/cc)                  3.188000  \n",
       "Depth(ft)                  13100.000000  \n",
       "g                             10.000000  \n",
       "Sv                        417086.040000  \n",
       "HPore Pressure              5675.359176  \n",
       "Overburden Pressure        11339.213403  \n",
       "Porosity Calculated            1.000000  \n",
       "Theoritical Porosity           0.400000  \n",
       "Over Pressure               4304.010584  \n",
       "Calculated Pore Pressure    9751.922160  \n",
       "Pressure Gradient              0.865589  "
      ]
     },
     "execution_count": 11,
     "metadata": {},
     "output_type": "execute_result"
    }
   ],
   "source": [
    "dataset.describe().transpose()"
   ]
  },
  {
   "cell_type": "code",
   "execution_count": 12,
   "metadata": {},
   "outputs": [
    {
     "name": "stdout",
     "output_type": "stream",
     "text": [
      "<class 'pandas.core.frame.DataFrame'>\n",
      "RangeIndex: 9590 entries, 0 to 9589\n",
      "Data columns (total 11 columns):\n",
      "Density(g/cc)               9590 non-null float64\n",
      "Depth(ft)                   9590 non-null int64\n",
      "g                           9590 non-null float64\n",
      "Sv                          9590 non-null float64\n",
      "HPore Pressure              9590 non-null float64\n",
      "Overburden Pressure         9590 non-null float64\n",
      "Porosity Calculated         9590 non-null float64\n",
      "Theoritical Porosity        9590 non-null float64\n",
      "Over Pressure               9590 non-null float64\n",
      "Calculated Pore Pressure    9590 non-null float64\n",
      "Pressure Gradient           9590 non-null float64\n",
      "dtypes: float64(10), int64(1)\n",
      "memory usage: 824.3 KB\n"
     ]
    }
   ],
   "source": [
    "dataset.info()"
   ]
  },
  {
   "cell_type": "code",
   "execution_count": 13,
   "metadata": {},
   "outputs": [
    {
     "name": "stdout",
     "output_type": "stream",
     "text": [
      "   Density(g/cc)  Depth(ft)     g       Sv  HPore Pressure  \\\n",
      "0          1.000          0  10.0      0.0        0.000000   \n",
      "1          1.000       1000  10.0  10000.0      433.233525   \n",
      "2          1.800       1001  10.0  18018.0      433.233525   \n",
      "3          1.800       3514  10.0  63252.0     1522.382607   \n",
      "4          2.154       3515  10.0  75713.1     1522.815840   \n",
      "\n",
      "   Overburden Pressure  Porosity Calculated  Theoritical Porosity  \\\n",
      "0             0.000000             1.000000              0.400000   \n",
      "1           433.233525             1.000000              0.400000   \n",
      "2           434.013345             0.529412              0.399938   \n",
      "3          2393.701872             0.529412              0.336030   \n",
      "4          2394.635057             0.321176              0.335996   \n",
      "\n",
      "   Over Pressure  Calculated Pore Pressure  Pressure Gradient  \n",
      "0       0.000000                  0.000000           0.811549  \n",
      "1      -0.000025                433.233500           0.433234  \n",
      "2    1402.289646               1835.523171           0.433580  \n",
      "3    2272.829091               3795.211698           0.681190  \n",
      "4    -225.549895               1297.265945           0.681262  \n"
     ]
    }
   ],
   "source": [
    "print(dataset.iloc[0:5])"
   ]
  },
  {
   "cell_type": "code",
   "execution_count": 14,
   "metadata": {},
   "outputs": [
    {
     "data": {
      "text/plain": [
       "<matplotlib.axes._subplots.AxesSubplot at 0x200e19e6788>"
      ]
     },
     "execution_count": 14,
     "metadata": {},
     "output_type": "execute_result"
    },
    {
     "data": {
      "image/png": "[encoded data removed]",
      "text/plain": [
       "<Figure size 432x288 with 2 Axes>"
      ]
     },
     "metadata": {
      "needs_background": "light"
     },
     "output_type": "display_data"
    }
   ],
   "source": [
    "dataset_corr = dataset.corr()\n",
    "sns.heatmap(dataset_corr, xticklabels=dataset_corr.columns, yticklabels=dataset_corr.columns, annot=True)"
   ]
  },
  {
   "cell_type": "code",
   "execution_count": 15,
   "metadata": {},
   "outputs": [
    {
     "ename": "NameError",
     "evalue": "name 'save' is not defined",
     "output_type": "error",
     "traceback": [
      "\u001b[1;31m---------------------------------------------------------------------------\u001b[0m",
      "\u001b[1;31mNameError\u001b[0m                                 Traceback (most recent call last)",
      "\u001b[1;32m<ipython-input-15-e4ad6bcfb019>\u001b[0m in \u001b[0;36m<module>\u001b[1;34m\u001b[0m\n\u001b[0;32m      1\u001b[0m \u001b[0mdataset\u001b[0m\u001b[1;33m.\u001b[0m\u001b[0mhist\u001b[0m\u001b[1;33m(\u001b[0m\u001b[0mbins\u001b[0m \u001b[1;33m=\u001b[0m \u001b[1;36m50\u001b[0m\u001b[1;33m,\u001b[0m \u001b[0mfigsize\u001b[0m\u001b[1;33m=\u001b[0m\u001b[1;33m(\u001b[0m\u001b[1;36m20\u001b[0m\u001b[1;33m,\u001b[0m\u001b[1;36m15\u001b[0m\u001b[1;33m)\u001b[0m\u001b[1;33m)\u001b[0m\u001b[1;33m\u001b[0m\u001b[1;33m\u001b[0m\u001b[0m\n\u001b[1;32m----> 2\u001b[1;33m \u001b[0msave\u001b[0m\u001b[1;33m.\u001b[0m\u001b[0mfig\u001b[0m\u001b[1;33m(\u001b[0m\u001b[1;34m'well_log_attribute'\u001b[0m\u001b[1;33m)\u001b[0m\u001b[1;33m\u001b[0m\u001b[1;33m\u001b[0m\u001b[0m\n\u001b[0m\u001b[0;32m      3\u001b[0m \u001b[0mplt\u001b[0m\u001b[1;33m.\u001b[0m\u001b[0mshow\u001b[0m\u001b[1;33m\u001b[0m\u001b[1;33m\u001b[0m\u001b[0m\n",
      "\u001b[1;31mNameError\u001b[0m: name 'save' is not defined"
     ]
    },
    {
     "data": {
      "image/png": "[encoded data removed]",
      "text/plain": [
       "<Figure size 1440x1080 with 12 Axes>"
      ]
     },
     "metadata": {
      "needs_background": "light"
     },
     "output_type": "display_data"
    }
   ],
   "source": [
    "dataset.hist(bins = 50, figsize=(20,15))\n",
    "save.fig('well_log_attribute')\n",
    "plt.show"
   ]
  },
  {
   "cell_type": "code",
   "execution_count": null,
   "metadata": {},
   "outputs": [],
   "source": [
    "from pandas.plotting import scatter_matrix\n",
    "attribute =['HPore Pressure', 'Pressure Gradient', 'Over Pressure', 'Calculated Pore Pressure']\n",
    "scatter_matrix(dataset[attribute], figsize=(12, 8))"
   ]
  },
  {
   "cell_type": "code",
   "execution_count": null,
   "metadata": {},
   "outputs": [],
   "source": [
    "#dataset.plot(kind='scatter', x='Calculated Pore Pressure', y='Theoritical Porosity', alpha=0.8)"
   ]
  },
  {
   "cell_type": "code",
   "execution_count": null,
   "metadata": {},
   "outputs": [],
   "source": [
    "#g = sns.pairplot(dataset)"
   ]
  },
  {
   "cell_type": "code",
   "execution_count": 16,
   "metadata": {},
   "outputs": [
    {
     "data": {
      "text/plain": [
       "<seaborn.axisgrid.FacetGrid at 0x200e41fb8c8>"
      ]
     },
     "execution_count": 16,
     "metadata": {},
     "output_type": "execute_result"
    },
    {
     "data": {
      "image/png": "[encoded data removed]",
      "text/plain": [
       "<Figure size 360x360 with 1 Axes>"
      ]
     },
     "metadata": {
      "needs_background": "light"
     },
     "output_type": "display_data"
    }
   ],
   "source": [
    "sns.lmplot('HPore Pressure', 'Porosity Calculated', dataset)"
   ]
  },
  {
   "cell_type": "markdown",
   "metadata": {},
   "source": [
    "# Machine Learning Procedure"
   ]
  },
  {
   "cell_type": "code",
   "execution_count": 17,
   "metadata": {},
   "outputs": [],
   "source": [
    "import sklearn\n",
    "from sklearn.model_selection import train_test_split"
   ]
  },
  {
   "cell_type": "code",
   "execution_count": 18,
   "metadata": {},
   "outputs": [],
   "source": [
    "X = dataset.iloc[:, :-6].values\n",
    "y = dataset.iloc[:, 5].values"
   ]
  },
  {
   "cell_type": "code",
   "execution_count": 19,
   "metadata": {},
   "outputs": [],
   "source": [
    "X_train, X_test, y_train, y_test = train_test_split(X, y, test_size = 0.2, random_state=0)"
   ]
  },
  {
   "cell_type": "code",
   "execution_count": 20,
   "metadata": {},
   "outputs": [
    {
     "data": {
      "text/plain": [
       "(9590, 5)"
      ]
     },
     "execution_count": 20,
     "metadata": {},
     "output_type": "execute_result"
    }
   ],
   "source": [
    "X.shape"
   ]
  },
  {
   "cell_type": "code",
   "execution_count": 21,
   "metadata": {},
   "outputs": [
    {
     "data": {
      "text/plain": [
       "(9590,)"
      ]
     },
     "execution_count": 21,
     "metadata": {},
     "output_type": "execute_result"
    }
   ],
   "source": [
    "y.shape"
   ]
  },
  {
   "cell_type": "code",
   "execution_count": 22,
   "metadata": {},
   "outputs": [
    {
     "data": {
      "text/plain": [
       "LinearRegression(copy_X=True, fit_intercept=True, n_jobs=None, normalize=False)"
      ]
     },
     "execution_count": 22,
     "metadata": {},
     "output_type": "execute_result"
    }
   ],
   "source": [
    "from sklearn.linear_model import LinearRegression\n",
    "regressor = LinearRegression()\n",
    "regressor.fit(X_train, y_train)"
   ]
  },
  {
   "cell_type": "code",
   "execution_count": 24,
   "metadata": {},
   "outputs": [],
   "source": [
    "y_pred = regressor.predict(X_test)"
   ]
  },
  {
   "cell_type": "code",
   "execution_count": 25,
   "metadata": {},
   "outputs": [
    {
     "data": {
      "text/plain": [
       "array([ 8975.23837022,  5341.87145316, 11032.68492988, ...,\n",
       "        2668.94364991,  8651.44068985, 10722.77483528])"
      ]
     },
     "execution_count": 25,
     "metadata": {},
     "output_type": "execute_result"
    }
   ],
   "source": [
    "y_pred"
   ]
  },
  {
   "cell_type": "code",
   "execution_count": 29,
   "metadata": {},
   "outputs": [
    {
     "data": {
      "text/plain": [
       "array([ 8977.32213624,  5343.49969691, 11024.73005403, ...,\n",
       "        2657.79323045,  8654.44012185, 10722.37810993])"
      ]
     },
     "execution_count": 29,
     "metadata": {},
     "output_type": "execute_result"
    }
   ],
   "source": [
    "y_test"
   ]
  },
  {
   "cell_type": "code",
   "execution_count": 32,
   "metadata": {},
   "outputs": [
    {
     "data": {
      "text/plain": [
       "9.269375908448787"
      ]
     },
     "execution_count": 32,
     "metadata": {},
     "output_type": "execute_result"
    }
   ],
   "source": [
    "from sklearn.metrics import mean_squared_error\n",
    "\n",
    "X_prediction = regressor.predict(X_train)\n",
    "lin_mse = mean_squared_error(y_train, X_prediction)\n",
    "lin_rmse = np.sqrt(lin_mse)\n",
    "lin_rmse"
   ]
  },
  {
   "cell_type": "code",
   "execution_count": 33,
   "metadata": {},
   "outputs": [
    {
     "data": {
      "text/plain": [
       "3.861056408614316"
      ]
     },
     "execution_count": 33,
     "metadata": {},
     "output_type": "execute_result"
    }
   ],
   "source": [
    "from sklearn.metrics import mean_absolute_error\n",
    "\n",
    "lin_mae = mean_absolute_error(y_train, X_predictions)\n",
    "lin_mae"
   ]
  },
  {
   "cell_type": "code",
   "execution_count": 34,
   "metadata": {},
   "outputs": [
    {
     "data": {
      "text/plain": [
       "DecisionTreeRegressor(criterion='mse', max_depth=None, max_features=None,\n",
       "                      max_leaf_nodes=None, min_impurity_decrease=0.0,\n",
       "                      min_impurity_split=None, min_samples_leaf=1,\n",
       "                      min_samples_split=2, min_weight_fraction_leaf=0.0,\n",
       "                      presort=False, random_state=42, splitter='best')"
      ]
     },
     "execution_count": 34,
     "metadata": {},
     "output_type": "execute_result"
    }
   ],
   "source": [
    "from sklearn.tree import DecisionTreeRegressor\n",
    "\n",
    "tree_reg = DecisionTreeRegressor(random_state=42)\n",
    "tree_reg.fit(X_train, y_train)"
   ]
  },
  {
   "cell_type": "code",
   "execution_count": 35,
   "metadata": {},
   "outputs": [],
   "source": [
    "from sklearn.model_selection import cross_val_score\n",
    "\n",
    "scores = cross_val_score(tree_reg, X_train, y_train,\n",
    "                         scoring=\"neg_mean_squared_error\", cv=10)\n",
    "tree_rmse_scores = np.sqrt(-scores)"
   ]
  },
  {
   "cell_type": "code",
   "execution_count": 36,
   "metadata": {},
   "outputs": [
    {
     "name": "stdout",
     "output_type": "stream",
     "text": [
      "Scores: [ 1.9390741   1.71205384  1.82475166  1.76860511  1.99372901 70.77843666\n",
      " 70.78584735  1.6106945   1.73686415 15.77728897]\n",
      "Mean: 16.992734535387424\n",
      "Standard deviation: 27.210936526341122\n"
     ]
    }
   ],
   "source": [
    "def display_scores(scores):\n",
    "    print(\"Scores:\", scores)\n",
    "    print(\"Mean:\", scores.mean())\n",
    "    print(\"Standard deviation:\", scores.std())\n",
    "\n",
    "display_scores(tree_rmse_scores)"
   ]
  },
  {
   "cell_type": "code",
   "execution_count": 38,
   "metadata": {},
   "outputs": [
    {
     "data": {
      "text/plain": [
       "count    10.000000\n",
       "mean      8.714567\n",
       "std       7.525421\n",
       "min       5.081003\n",
       "25%       5.267830\n",
       "50%       5.385165\n",
       "75%       7.881788\n",
       "max      29.060394\n",
       "dtype: float64"
      ]
     },
     "execution_count": 38,
     "metadata": {},
     "output_type": "execute_result"
    }
   ],
   "source": [
    "scores = cross_val_score(regressor, X_train, y_train, scoring=\"neg_mean_squared_error\", cv=10)\n",
    "pd.Series(np.sqrt(-scores)).describe()"
   ]
  },
  {
   "cell_type": "code",
   "execution_count": 40,
   "metadata": {},
   "outputs": [
    {
     "ename": "ValueError",
     "evalue": "continuous is not supported",
     "output_type": "error",
     "traceback": [
      "\u001b[1;31m---------------------------------------------------------------------------\u001b[0m",
      "\u001b[1;31mValueError\u001b[0m                                Traceback (most recent call last)",
      "\u001b[1;32m<ipython-input-40-b77f980e5808>\u001b[0m in \u001b[0;36m<module>\u001b[1;34m\u001b[0m\n\u001b[0;32m      1\u001b[0m \u001b[1;32mfrom\u001b[0m \u001b[0msklearn\u001b[0m\u001b[1;33m.\u001b[0m\u001b[0mmetrics\u001b[0m \u001b[1;32mimport\u001b[0m \u001b[0maccuracy_score\u001b[0m\u001b[1;33m\u001b[0m\u001b[1;33m\u001b[0m\u001b[0m\n\u001b[1;32m----> 2\u001b[1;33m \u001b[0maccuracy\u001b[0m \u001b[1;33m=\u001b[0m \u001b[0maccuracy_score\u001b[0m\u001b[1;33m(\u001b[0m\u001b[0my_test\u001b[0m\u001b[1;33m,\u001b[0m \u001b[0my_pred\u001b[0m\u001b[1;33m)\u001b[0m\u001b[1;33m\u001b[0m\u001b[1;33m\u001b[0m\u001b[0m\n\u001b[0m",
      "\u001b[1;32m~\\Anaconda3\\lib\\site-packages\\sklearn\\metrics\\classification.py\u001b[0m in \u001b[0;36maccuracy_score\u001b[1;34m(y_true, y_pred, normalize, sample_weight)\u001b[0m\n\u001b[0;32m    174\u001b[0m \u001b[1;33m\u001b[0m\u001b[0m\n\u001b[0;32m    175\u001b[0m     \u001b[1;31m# Compute accuracy for each possible representation\u001b[0m\u001b[1;33m\u001b[0m\u001b[1;33m\u001b[0m\u001b[1;33m\u001b[0m\u001b[0m\n\u001b[1;32m--> 176\u001b[1;33m     \u001b[0my_type\u001b[0m\u001b[1;33m,\u001b[0m \u001b[0my_true\u001b[0m\u001b[1;33m,\u001b[0m \u001b[0my_pred\u001b[0m \u001b[1;33m=\u001b[0m \u001b[0m_check_targets\u001b[0m\u001b[1;33m(\u001b[0m\u001b[0my_true\u001b[0m\u001b[1;33m,\u001b[0m \u001b[0my_pred\u001b[0m\u001b[1;33m)\u001b[0m\u001b[1;33m\u001b[0m\u001b[1;33m\u001b[0m\u001b[0m\n\u001b[0m\u001b[0;32m    177\u001b[0m     \u001b[0mcheck_consistent_length\u001b[0m\u001b[1;33m(\u001b[0m\u001b[0my_true\u001b[0m\u001b[1;33m,\u001b[0m \u001b[0my_pred\u001b[0m\u001b[1;33m,\u001b[0m \u001b[0msample_weight\u001b[0m\u001b[1;33m)\u001b[0m\u001b[1;33m\u001b[0m\u001b[1;33m\u001b[0m\u001b[0m\n\u001b[0;32m    178\u001b[0m     \u001b[1;32mif\u001b[0m \u001b[0my_type\u001b[0m\u001b[1;33m.\u001b[0m\u001b[0mstartswith\u001b[0m\u001b[1;33m(\u001b[0m\u001b[1;34m'multilabel'\u001b[0m\u001b[1;33m)\u001b[0m\u001b[1;33m:\u001b[0m\u001b[1;33m\u001b[0m\u001b[1;33m\u001b[0m\u001b[0m\n",
      "\u001b[1;32m~\\Anaconda3\\lib\\site-packages\\sklearn\\metrics\\classification.py\u001b[0m in \u001b[0;36m_check_targets\u001b[1;34m(y_true, y_pred)\u001b[0m\n\u001b[0;32m     86\u001b[0m     \u001b[1;31m# No metrics support \"multiclass-multioutput\" format\u001b[0m\u001b[1;33m\u001b[0m\u001b[1;33m\u001b[0m\u001b[1;33m\u001b[0m\u001b[0m\n\u001b[0;32m     87\u001b[0m     \u001b[1;32mif\u001b[0m \u001b[1;33m(\u001b[0m\u001b[0my_type\u001b[0m \u001b[1;32mnot\u001b[0m \u001b[1;32min\u001b[0m \u001b[1;33m[\u001b[0m\u001b[1;34m\"binary\"\u001b[0m\u001b[1;33m,\u001b[0m \u001b[1;34m\"multiclass\"\u001b[0m\u001b[1;33m,\u001b[0m \u001b[1;34m\"multilabel-indicator\"\u001b[0m\u001b[1;33m]\u001b[0m\u001b[1;33m)\u001b[0m\u001b[1;33m:\u001b[0m\u001b[1;33m\u001b[0m\u001b[1;33m\u001b[0m\u001b[0m\n\u001b[1;32m---> 88\u001b[1;33m         \u001b[1;32mraise\u001b[0m \u001b[0mValueError\u001b[0m\u001b[1;33m(\u001b[0m\u001b[1;34m\"{0} is not supported\"\u001b[0m\u001b[1;33m.\u001b[0m\u001b[0mformat\u001b[0m\u001b[1;33m(\u001b[0m\u001b[0my_type\u001b[0m\u001b[1;33m)\u001b[0m\u001b[1;33m)\u001b[0m\u001b[1;33m\u001b[0m\u001b[1;33m\u001b[0m\u001b[0m\n\u001b[0m\u001b[0;32m     89\u001b[0m \u001b[1;33m\u001b[0m\u001b[0m\n\u001b[0;32m     90\u001b[0m     \u001b[1;32mif\u001b[0m \u001b[0my_type\u001b[0m \u001b[1;32min\u001b[0m \u001b[1;33m[\u001b[0m\u001b[1;34m\"binary\"\u001b[0m\u001b[1;33m,\u001b[0m \u001b[1;34m\"multiclass\"\u001b[0m\u001b[1;33m]\u001b[0m\u001b[1;33m:\u001b[0m\u001b[1;33m\u001b[0m\u001b[1;33m\u001b[0m\u001b[0m\n",
      "\u001b[1;31mValueError\u001b[0m: continuous is not supported"
     ]
    }
   ],
   "source": [
    "from sklearn.metrics import accuracy_score\n",
    "accuracy = accuracy_score(y_test, y_pred)"
   ]
  },
  {
   "cell_type": "code",
   "execution_count": null,
   "metadata": {},
   "outputs": [],
   "source": []
  }
 ],
 "metadata": {
  "kernelspec": {
   "display_name": "Python 3",
   "language": "python",
   "name": "python3"
  },
  "language_info": {
   "codemirror_mode": {
    "name": "ipython",
    "version": 3
   },
   "file_extension": ".py",
   "mimetype": "text/x-python",
   "name": "python",
   "nbconvert_exporter": "python",
   "pygments_lexer": "ipython3",
   "version": "3.7.4"
  }
 },
 "nbformat": 4,
 "nbformat_minor": 2
}
